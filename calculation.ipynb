{
 "cells": [
  {
   "cell_type": "code",
   "execution_count": 1,
   "id": "834c58ff",
   "metadata": {},
   "outputs": [],
   "source": [
    "from typing import Dict , TypedDict\n",
    "from langgraph.graph import StateGraph,END,START"
   ]
  },
  {
   "cell_type": "code",
   "execution_count": 2,
   "id": "cf0369ae",
   "metadata": {},
   "outputs": [],
   "source": [
    "class Agentstate(TypedDict):\n",
    "    num1:int\n",
    "    num2:int\n",
    "    operation:str\n",
    "    result:int"
   ]
  },
  {
   "cell_type": "code",
   "execution_count": 3,
   "id": "67febcea",
   "metadata": {},
   "outputs": [],
   "source": [
    "def adder(state:Agentstate)->Agentstate:\n",
    "    \"\"\"this is the simple add function\"\"\"\n",
    "    state[\"result\"]=state[\"num1\"]+state[\"num2\"]\n",
    "    return state"
   ]
  },
  {
   "cell_type": "code",
   "execution_count": 4,
   "id": "cbe4619b",
   "metadata": {},
   "outputs": [],
   "source": [
    "def subtraction(state:Agentstate)-> Agentstate:\n",
    "    \"\"\"this is the simple fucntion to subtract\"\"\"\n",
    "    state[\"result\"]=state[\"num1\"]-state[\"num2\"]\n",
    "    return state"
   ]
  },
  {
   "cell_type": "code",
   "execution_count": 5,
   "id": "4ad31219",
   "metadata": {},
   "outputs": [],
   "source": [
    "def router(state:Agentstate) -> Agentstate:\n",
    "    \"\"\"this is the routing function to add condition to the program\"\"\"\n",
    "    if state[\"operation\"] == \"-\":\n",
    "        return \"subtraction_\"\n",
    "    else :\n",
    "        return \"addition_\""
   ]
  },
  {
   "cell_type": "code",
   "execution_count": 6,
   "id": "06141560",
   "metadata": {},
   "outputs": [],
   "source": [
    "graph = StateGraph(Agentstate)\n"
   ]
  },
  {
   "cell_type": "code",
   "execution_count": 7,
   "id": "6c0cc27a",
   "metadata": {},
   "outputs": [],
   "source": [
    "graph.add_node(\"addition\",adder)\n",
    "graph.add_node(\"subtraction\",subtraction)\n",
    "graph.add_node(\"router\",lambda state:state)\n",
    "\n",
    "graph.add_edge(START,\"router\")\n",
    "graph.add_conditional_edges(\n",
    "    \"router\",\n",
    "    router,\n",
    "    {\n",
    "        \"subtraction_\":\"subtraction\",\n",
    "        \"addition_\":\"addition\"\n",
    "    }\n",
    ")\n",
    "graph.add_edge(\"addition\",END)\n",
    "graph.add_edge(\"subtraction\",END)\n",
    "app = graph.compile()"
   ]
  },
  {
   "cell_type": "code",
   "execution_count": 8,
   "id": "e598f3e0",
   "metadata": {},
   "outputs": [
    {
     "data": {
      "image/png": "[encoded data removed]",
      "text/plain": [
       "<IPython.core.display.Image object>"
      ]
     },
     "metadata": {},
     "output_type": "display_data"
    }
   ],
   "source": [
    "from IPython.display import Image , display \n",
    "display(Image(app.get_graph().draw_mermaid_png()))"
   ]
  },
  {
   "cell_type": "code",
   "execution_count": 9,
   "id": "cfc63834",
   "metadata": {},
   "outputs": [
    {
     "name": "stdout",
     "output_type": "stream",
     "text": [
      "{'num1': 34, 'num2': 54, 'operation': '+', 'result': 88}\n"
     ]
    }
   ],
   "source": [
    "para=Agentstate(num1=34,num2=54,operation=\"+\")\n",
    "print(app.invoke(para))"
   ]
  },
  {
   "cell_type": "code",
   "execution_count": null,
   "id": "85acd882",
   "metadata": {},
   "outputs": [],
   "source": []
  }
 ],
 "metadata": {
  "kernelspec": {
   "display_name": "venv",
   "language": "python",
   "name": "python3"
  },
  "language_info": {
   "codemirror_mode": {
    "name": "ipython",
    "version": 3
   },
   "file_extension": ".py",
   "mimetype": "text/x-python",
   "name": "python",
   "nbconvert_exporter": "python",
   "pygments_lexer": "ipython3",
   "version": "3.13.3"
  }
 },
 "nbformat": 4,
 "nbformat_minor": 5
}
