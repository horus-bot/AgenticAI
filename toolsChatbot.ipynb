{
 "cells": [
  {
   "cell_type": "code",
   "execution_count": 14,
   "id": "d55ff8c0",
   "metadata": {},
   "outputs": [],
   "source": [
    "from typing import Annotated, Sequence, TypedDict\n",
    "from dotenv import load_dotenv  \n",
    "from langchain_core.messages import BaseMessage \n",
    "from langchain_core.messages import ToolMessage  \n",
    "from langchain_core.messages import SystemMessage \n",
    "from langchain_groq import ChatGroq\n",
    "from langchain_core.tools import tool\n",
    "from langgraph.graph.message import add_messages\n",
    "from langgraph.graph import StateGraph, END\n",
    "from langgraph.prebuilt import ToolNode\n",
    "from langchain_core.messages import HumanMessage"
   ]
  },
  {
   "cell_type": "code",
   "execution_count": 15,
   "id": "b3d53c54",
   "metadata": {},
   "outputs": [],
   "source": [
    "load_dotenv()\n",
    "\n",
    "class AgentState(TypedDict):\n",
    "    messages: Annotated[Sequence[BaseMessage], add_messages]"
   ]
  },
  {
   "cell_type": "code",
   "execution_count": null,
   "id": "5df7b5ae",
   "metadata": {},
   "outputs": [],
   "source": [
    "@tool\n",
    "def sum(a:int,b:int):\n",
    "    \"\"\"this is the add function\"\"\"\n",
    "    return a+b\n",
    "\n",
    "@tool\n",
    "def sub(a:int,b:int):\n",
    "    \"\"\"this is the subtraction function\"\"\"\n",
    "    return a-b \n",
    "\n",
    "@tool\n",
    "def product(a:int,b:int):\n",
    "    \"\"\"this is the multiplication function\"\"\"\n",
    "    return a*b  \n",
    "\n",
    "tools=[sum,sub,product]"
   ]
  },
  {
   "cell_type": "code",
   "execution_count": 17,
   "id": "55bed5b1",
   "metadata": {},
   "outputs": [],
   "source": [
    "llm = ChatGroq(\n",
    "    model=\"llama-3.3-70b-versatile\",\n",
    "    temperature=0.7\n",
    ").bind_tools(tools)\n"
   ]
  },
  {
   "cell_type": "code",
   "execution_count": null,
   "id": "4e3105af",
   "metadata": {},
   "outputs": [],
   "source": [
    "def model(state:AgentState)->AgentState:\n",
    "    \"\"\"this is for calling the model\"\"\"\n",
    "    try:\n",
    "        systemPrompt = SystemMessage(content=\"you are a ai agent chat bot\")\n",
    "        response = llm.invoke([systemPrompt] + state[\"messages\"])\n",
    "        return {\"messages\": [response]}\n",
    "    except Exception as e:\n",
    "        print(f\"Error in model: {e}\")\n",
    "        return {\"messages\": []}  \n",
    "                            \n"
   ]
  },
  {
   "cell_type": "code",
   "execution_count": 19,
   "id": "962c7b81",
   "metadata": {},
   "outputs": [],
   "source": [
    "\n",
    "def should_continue(state: AgentState): \n",
    "    messages = state[\"messages\"]\n",
    "    last_message = messages[-1]\n",
    "    # Add proper type checking\n",
    "    if hasattr(last_message, 'tool_calls') and last_message.tool_calls: \n",
    "        return \"continue\"\n",
    "    else:\n",
    "        return \"end\""
   ]
  },
  {
   "cell_type": "code",
   "execution_count": 20,
   "id": "a4555dd8",
   "metadata": {},
   "outputs": [],
   "source": [
    "graph = StateGraph(AgentState)\n",
    "graph.add_node(\"our_agent\", model)\n",
    "\n",
    "\n",
    "tool_node = ToolNode(tools=tools)\n",
    "graph.add_node(\"tools\", tool_node)\n",
    "\n",
    "graph.set_entry_point(\"our_agent\")\n",
    "\n",
    "graph.add_conditional_edges(\n",
    "    \"our_agent\",\n",
    "    should_continue,\n",
    "    {\n",
    "        \"continue\": \"tools\",\n",
    "        \"end\": END,\n",
    "    },\n",
    ")\n",
    "\n",
    "graph.add_edge(\"tools\", \"our_agent\")\n",
    "\n",
    "app = graph.compile()\n"
   ]
  },
  {
   "cell_type": "code",
   "execution_count": null,
   "id": "228cf78b",
   "metadata": {},
   "outputs": [
    {
     "name": "stdout",
     "output_type": "stream",
     "text": [
      "================================\u001b[1m Human Message \u001b[0m=================================\n",
      "\n",
      "Add 40 + 12 and then multiply the result by 6. Also tell me a joke please.\n",
      "Tool calls: [{'name': 'sum', 'args': {'a': 40, 'b': 12}, 'id': 'dskkws2nr', 'type': 'tool_call'}, {'name': 'product', 'args': {'a': 52, 'b': 6}, 'id': '4rengt2zh', 'type': 'tool_call'}]\n",
      "==================================\u001b[1m Ai Message \u001b[0m==================================\n",
      "Tool Calls:\n",
      "  sum (dskkws2nr)\n",
      " Call ID: dskkws2nr\n",
      "  Args:\n",
      "    a: 40\n",
      "    b: 12\n",
      "  product (4rengt2zh)\n",
      " Call ID: 4rengt2zh\n",
      "  Args:\n",
      "    a: 52\n",
      "    b: 6\n",
      "=================================\u001b[1m Tool Message \u001b[0m=================================\n",
      "Name: product\n",
      "\n",
      "312\n",
      "==================================\u001b[1m Ai Message \u001b[0m==================================\n",
      "\n",
      "Why couldn't the bicycle stand up by itself? Because it was two-tired.\n"
     ]
    }
   ],
   "source": [
    "def print_stream(stream):\n",
    "    for s in stream:\n",
    "        message = s[\"messages\"][-1]\n",
    "        if isinstance(message, tuple):\n",
    "            print(message)\n",
    "        else:\n",
    "            \n",
    "            if hasattr(message, 'tool_calls') and message.tool_calls:\n",
    "                print(f\"Tool calls: {message.tool_calls}\")\n",
    "            message.pretty_print()\n",
    "\n",
    "inputs = {\"messages\": [HumanMessage(content=\"Add 40 + 12 and then multiply the result by 6. Also tell me a joke please.\")]}\n",
    "print_stream(app.stream(inputs, stream_mode=\"values\"))"
   ]
  },
  {
   "cell_type": "code",
   "execution_count": null,
   "id": "3838a638",
   "metadata": {},
   "outputs": [],
   "source": []
  }
 ],
 "metadata": {
  "kernelspec": {
   "display_name": "venv",
   "language": "python",
   "name": "python3"
  },
  "language_info": {
   "codemirror_mode": {
    "name": "ipython",
    "version": 3
   },
   "file_extension": ".py",
   "mimetype": "text/x-python",
   "name": "python",
   "nbconvert_exporter": "python",
   "pygments_lexer": "ipython3",
   "version": "3.13.3"
  }
 },
 "nbformat": 4,
 "nbformat_minor": 5
}
