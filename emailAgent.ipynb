{
 "cells": [
  {
   "cell_type": "code",
   "execution_count": 25,
   "id": "05fa0314",
   "metadata": {},
   "outputs": [],
   "source": [
    "from typing import List,TypedDict,Annotated,Sequence\n",
    "from langchain_groq import ChatGroq\n",
    "from langchain_core.messages import HumanMessage,BaseMessage,AIMessage,SystemMessage\n",
    "from langgraph.graph import StateGraph ,END,START\n",
    "from dotenv import load_dotenv\n",
    "from langgraph.graph.message import add_messages\n",
    "from langgraph.prebuilt import ToolNode\n",
    "\n"
   ]
  },
  {
   "cell_type": "code",
   "execution_count": 26,
   "id": "dea2e19a",
   "metadata": {},
   "outputs": [
    {
     "data": {
      "text/plain": [
       "True"
      ]
     },
     "execution_count": 26,
     "metadata": {},
     "output_type": "execute_result"
    }
   ],
   "source": [
    "class AgentState(TypedDict):\n",
    "    messages:Annotated[Sequence[BaseMessage],add_messages]\n",
    "\n",
    "load_dotenv()    "
   ]
  },
  {
   "cell_type": "code",
   "execution_count": 27,
   "id": "41a7cd82",
   "metadata": {},
   "outputs": [
    {
     "name": "stdout",
     "output_type": "stream",
     "text": [
      "Requirement already satisfied: aiosmtplib in c:\\users\\lenovo\\desktop\\langraph\\venv\\lib\\site-packages (4.0.1)\n",
      "Note: you may need to restart the kernel to use updated packages.\n"
     ]
    }
   ],
   "source": [
    "pip install aiosmtplib"
   ]
  },
  {
   "cell_type": "code",
   "execution_count": 28,
   "id": "818be9f7",
   "metadata": {},
   "outputs": [],
   "source": [
    "import os\n",
    "from email.message import EmailMessage\n",
    "from aiosmtplib import SMTP\n",
    "from langchain_core.tools import tool\n",
    "import asyncio\n"
   ]
  },
  {
   "cell_type": "code",
   "execution_count": null,
   "id": "320a1df2",
   "metadata": {},
   "outputs": [],
   "source": [
    "@tool\n",
    "def send_email_tool(to_email: str, subject: str, body: str) -> str:\n",
    "    \"\"\"Send an email using a simplified SMTP approach\"\"\"\n",
    "    \n",
    "    import smtplib\n",
    "    from email.mime.text import MIMEText\n",
    "    from email.mime.multipart import MIMEMultipart\n",
    "    \n",
    "    email_user = os.getenv(\"EMAIL_USER\")\n",
    "    email_pass = os.getenv(\"EMAIL_PASS\")\n",
    "    \n",
    "    if not email_user or not email_pass:\n",
    "        return \" Email credentials not configured in .env file\"\n",
    "    \n",
    "    try:\n",
    "        # Create message\n",
    "        msg = MIMEMultipart()\n",
    "        msg['From'] = email_user\n",
    "        msg['To'] = to_email\n",
    "        msg['Subject'] = subject\n",
    "        msg.attach(MIMEText(body, 'plain'))\n",
    "        \n",
    "        # Use regular smtplib instead of aiosmtplib\n",
    "        print(\"Connecting to Gmail...\")\n",
    "        server = smtplib.SMTP('smtp.gmail.com', 587)\n",
    "        server.starttls()  # Enable TLS\n",
    "        print(\"Logging in...\")\n",
    "        server.login(email_user, email_pass)\n",
    "        print(\"Sending email...\")\n",
    "        server.send_message(msg)\n",
    "        server.quit()\n",
    "        print(\"Email sent successfully!\")\n",
    "        \n",
    "        return f\"✅ Email sent to {to_email} with subject: '{subject}'\"\n",
    "        \n",
    "    except Exception as e:\n",
    "        print(f\"Email error: {e}\")\n",
    "        return f\"❌ Email failed to {to_email}: {e}\"\n"
   ]
  },
  {
   "cell_type": "code",
   "execution_count": 60,
   "id": "4109f9be",
   "metadata": {},
   "outputs": [],
   "source": [
    "tools =[send_email_tool]\n",
    "llm = ChatGroq(\n",
    "    model=\"llama-3.3-70b-versatile\",\n",
    "    temperature=0.7\n",
    ").bind_tools(tools)\n"
   ]
  },
  {
   "cell_type": "code",
   "execution_count": null,
   "id": "9c9c10ef",
   "metadata": {},
   "outputs": [],
   "source": [
    "\n",
    "def process(state:AgentState)->AgentState:\n",
    "    try:\n",
    "        systemPrompt = SystemMessage(content=\"you are a assistant answer and help the user with your best\")\n",
    "        response = llm.invoke([systemPrompt] + state[\"messages\"])\n",
    "        return {\"messages\": [response]} \n",
    "    except Exception as e:\n",
    "        print(\"error\")\n",
    "        return {\"messages\": []}\n"
   ]
  },
  {
   "cell_type": "code",
   "execution_count": 62,
   "id": "2d755d47",
   "metadata": {},
   "outputs": [],
   "source": [
    "def should_continue(state: AgentState):\n",
    "    last = state[\"messages\"][-1]\n",
    "    if hasattr(last, \"tool_calls\") and last.tool_calls:\n",
    "        return \"continue\"\n",
    "    return \"end\"\n"
   ]
  },
  {
   "cell_type": "code",
   "execution_count": null,
   "id": "e2ecfff7",
   "metadata": {},
   "outputs": [],
   "source": [
    "\n",
    "graph = StateGraph(AgentState)\n",
    "\n",
    "graph.add_node(\"ai\", process)\n",
    "graph.add_node(\"tool\", ToolNode(tools=tools))\n",
    "\n",
    "graph.add_edge(START, \"ai\")\n",
    "\n",
    "\n",
    "graph.add_conditional_edges(\n",
    "    \"ai\",\n",
    "    should_continue,  \n",
    "    {\n",
    "        \"continue\": \"tool\",  \n",
    "        \"end\": END           \n",
    "    }\n",
    ")\n",
    "\n",
    "graph.add_edge(\"tool\", \"ai\")  \n",
    "\n",
    "app = graph.compile()\n"
   ]
  },
  {
   "cell_type": "code",
   "execution_count": 64,
   "id": "9975b1e9",
   "metadata": {},
   "outputs": [
    {
     "data": {
      "image/png": "[encoded data removed]",
      "text/plain": [
       "<IPython.core.display.Image object>"
      ]
     },
     "metadata": {},
     "output_type": "display_data"
    }
   ],
   "source": [
    "from IPython.display import Image , display \n",
    "display(Image(app.get_graph().draw_mermaid_png()))"
   ]
  },
  {
   "cell_type": "code",
   "execution_count": null,
   "id": "f7cf4426",
   "metadata": {},
   "outputs": [
    {
     "name": "stdout",
     "output_type": "stream",
     "text": [
      "Connecting to Gmail...\n",
      "Logging in...\n",
      "Sending email...\n",
      "Email sent successfully!\n",
      "{'messages': [HumanMessage(content='hey , please email swathips1128@gmail.com and write the mail a harsh telling how much you missed her and u are looking forward for the movie date today and hopefully see her soon also use emoji in the text and wirte ina informal way', additional_kwargs={}, response_metadata={}, id='b7c9f831-3452-4c16-9a14-a1f443f34437'), AIMessage(content='', additional_kwargs={'tool_calls': [{'id': 'wcmctd5pr', 'function': {'arguments': '{\"body\":\"Hey sweetheart 😘, I\\'m missing you so much!! 🤗 I was just thinking about you and I couldn\\'t wait for our movie date today 🍿👍. I\\'m really looking forward to seeing you soon 🕰️ and spending some quality time together 💕. Hopefully, everything goes as planned and we can have an amazing time 🤞. Can\\'t wait to see your smile 😊 and give you a big hug 🤗. See you soon!! 🚪💨\",\"subject\":\"Missing you so much!! 🤗\",\"to_email\":\"swathips1128@gmail.com\"}', 'name': 'send_email_tool'}, 'type': 'function'}]}, response_metadata={'token_usage': {'completion_tokens': 146, 'prompt_tokens': 298, 'total_tokens': 444, 'completion_time': 0.601365973, 'prompt_time': 0.021679507, 'queue_time': 0.055944873000000006, 'total_time': 0.62304548}, 'model_name': 'llama-3.3-70b-versatile', 'system_fingerprint': 'fp_3f3b593e33', 'service_tier': 'on_demand', 'finish_reason': 'tool_calls', 'logprobs': None}, id='run--a08aba43-a509-4dd5-979d-40e4bfdabf4d-0', tool_calls=[{'name': 'send_email_tool', 'args': {'body': \"Hey sweetheart 😘, I'm missing you so much!! 🤗 I was just thinking about you and I couldn't wait for our movie date today 🍿👍. I'm really looking forward to seeing you soon 🕰️ and spending some quality time together 💕. Hopefully, everything goes as planned and we can have an amazing time 🤞. Can't wait to see your smile 😊 and give you a big hug 🤗. See you soon!! 🚪💨\", 'subject': 'Missing you so much!! 🤗', 'to_email': 'swathips1128@gmail.com'}, 'id': 'wcmctd5pr', 'type': 'tool_call'}], usage_metadata={'input_tokens': 298, 'output_tokens': 146, 'total_tokens': 444}), ToolMessage(content=\"✅ Email sent to swathips1128@gmail.com with subject: 'Missing you so much!! 🤗'\", name='send_email_tool', id='ac8672ee-2125-42d6-9a3c-8d8feb6b0c83', tool_call_id='wcmctd5pr'), AIMessage(content='I hope the email conveys your feelings and that you have a great time on your movie date! 🍿👍', additional_kwargs={}, response_metadata={'token_usage': {'completion_tokens': 27, 'prompt_tokens': 541, 'total_tokens': 568, 'completion_time': 0.108585356, 'prompt_time': 0.080936896, 'queue_time': 0.057959914000000015, 'total_time': 0.189522252}, 'model_name': 'llama-3.3-70b-versatile', 'system_fingerprint': 'fp_9a8b91ba77', 'service_tier': 'on_demand', 'finish_reason': 'stop', 'logprobs': None}, id='run--d9c8c5c1-d561-480f-8a51-c7e67eab3ea6-0', usage_metadata={'input_tokens': 541, 'output_tokens': 27, 'total_tokens': 568})]}\n"
     ]
    }
   ],
   "source": [
    "\n",
    "inputs = {\"messages\": [HumanMessage(content=\"hey , please email swathips1128@gmail.com and write the mail a harsh telling how much you missed her and u are looking forward for the movie date today and hopefully see her soon also use emoji in the text and wirte ina informal way\")]}\n",
    "result = app.invoke(inputs, config={\"recursion_limit\": 50})\n",
    "print(result)"
   ]
  },
  {
   "cell_type": "code",
   "execution_count": null,
   "id": "d5ad8c55",
   "metadata": {},
   "outputs": [],
   "source": []
  }
 ],
 "metadata": {
  "kernelspec": {
   "display_name": "venv",
   "language": "python",
   "name": "python3"
  },
  "language_info": {
   "codemirror_mode": {
    "name": "ipython",
    "version": 3
   },
   "file_extension": ".py",
   "mimetype": "text/x-python",
   "name": "python",
   "nbconvert_exporter": "python",
   "pygments_lexer": "ipython3",
   "version": "3.13.3"
  }
 },
 "nbformat": 4,
 "nbformat_minor": 5
}
